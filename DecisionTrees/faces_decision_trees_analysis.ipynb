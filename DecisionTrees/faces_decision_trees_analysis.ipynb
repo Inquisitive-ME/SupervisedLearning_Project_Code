{
 "cells": [
  {
   "cell_type": "code",
   "execution_count": null,
   "metadata": {
    "collapsed": true,
    "pycharm": {
     "name": "#%%\n"
    }
   },
   "outputs": [],
   "source": [
    "import os, sys\n",
    "# Reference: https://stackoverflow.com/questions/34478398/import-local-function-from-a-module-housed-in-another-directory-with-relative-im\n",
    "module_path = os.path.abspath(os.path.join('..'))\n",
    "if module_path not in sys.path:\n",
    "    sys.path.append(module_path)\n",
    "\n",
    "from data.faces.faces_data import get_faces_dataset\n",
    "\n",
    "import numpy as np\n",
    "import pandas  as pd\n",
    "from sklearn import tree\n",
    "from sklearn.model_selection import GridSearchCV\n",
    "import matplotlib.pyplot as plt\n",
    "import joblib\n",
    "\n",
    "PLOT_PREFIX = \"Figures/FACES_DT_TEST_\"\n",
    "GLOBAL_FIG_COUNTER = 0\n",
    "\n",
    "GS_FILE_NAME_PREFIX = \"Analysis_Data/FACES_DECISION_TREE\""
   ]
  },
  {
   "cell_type": "code",
   "execution_count": null,
   "outputs": [],
   "source": [
    "import DecisionTrees.common_decision_tree as common_decision_tree\n",
    "\n",
    "ccp_alpha = np.arange(0.0, 0.01, 0.0001)\n",
    "\n",
    "criterion = ['gini', 'entropy']\n",
    "min_samples_split = [i for i in range(2, 50, 2)]\n",
    "min_samples_leaf = [i for i in range(1, 50, 2)]\n",
    "max_depth = [i for i in range(1, 100, 2)]\n",
    "max_features = ['auto', 'sqrt', 'log2']\n",
    "\n",
    "parameters = {'criterion': criterion, 'min_samples_split': min_samples_split, 'min_samples_leaf': min_samples_leaf, 'max_features': max_features}\n",
    "\n",
    "parameters = {'max_depth': max_depth, 'min_samples_leaf': min_samples_leaf, 'min_samples_split': min_samples_split, 'ccp_alpha': ccp_alpha, 'max_features': max_features}\n",
    "\n",
    "X_train, X_test, y_train, y_test = get_faces_dataset()\n",
    "gs = common_decision_tree.perform_grid_search(parameters, X_train, y_train, scoring='accuracy', GS_FILE_NAME_PREFIX= GS_FILE_NAME_PREFIX)\n",
    "\n",
    "gs_results = gs"
   ],
   "metadata": {
    "collapsed": false,
    "pycharm": {
     "name": "#%%\n"
    }
   }
  },
  {
   "cell_type": "code",
   "execution_count": null,
   "outputs": [],
   "source": [],
   "metadata": {
    "collapsed": false,
    "pycharm": {
     "name": "#%%\n"
    }
   }
  }
 ],
 "metadata": {
  "kernelspec": {
   "display_name": "Python 3",
   "language": "python",
   "name": "python3"
  },
  "language_info": {
   "codemirror_mode": {
    "name": "ipython",
    "version": 2
   },
   "file_extension": ".py",
   "mimetype": "text/x-python",
   "name": "python",
   "nbconvert_exporter": "python",
   "pygments_lexer": "ipython2",
   "version": "2.7.6"
  }
 },
 "nbformat": 4,
 "nbformat_minor": 0
}
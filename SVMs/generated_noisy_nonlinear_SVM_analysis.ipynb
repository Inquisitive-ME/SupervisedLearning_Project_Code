{
 "cells": [
  {
   "cell_type": "code",
   "execution_count": 1,
   "outputs": [],
   "source": [
    "import os, sys\n",
    "# Reference: https://stackoverflow.com/questions/34478398/import-local-function-from-a-module-housed-in-another-directory-with-relative-im\n",
    "module_path = os.path.abspath(os.path.join('..'))\n",
    "if module_path not in sys.path:\n",
    "    sys.path.append(module_path)\n",
    "\n",
    "from data.generated.generated_data import get_noisy_nonlinear\n",
    "import common_grid_search_analysis\n",
    "import SVMs.common_SVM as common_SVM\n",
    "import TrainingCurves\n",
    "from sklearn.model_selection import ShuffleSplit\n",
    "\n",
    "from sklearn import svm"
   ],
   "metadata": {
    "collapsed": false,
    "pycharm": {
     "name": "#%%\n"
    }
   }
  },
  {
   "cell_type": "code",
   "execution_count": null,
   "outputs": [],
   "source": [
    "PLOT_PREFIX = \"Figures/NOISY_NONLINEAR_SVM_TEST_\"\n",
    "GLOBAL_FIG_COUNTER = 0\n",
    "\n",
    "GS_FILE_NAME_PREFIX = \"Analysis_Data/NOISY_NONLINEAR_SVM\""
   ],
   "metadata": {
    "collapsed": false,
    "pycharm": {
     "name": "#%%\n"
    }
   }
  },
  {
   "cell_type": "code",
   "execution_count": null,
   "outputs": [],
   "source": [
    "# Load Data\n",
    "X_train, X_test, y_train, y_test = get_noisy_nonlinear()\n",
    "num_features = X_train.shape[1]"
   ],
   "metadata": {
    "collapsed": false,
    "pycharm": {
     "name": "#%%\n"
    }
   }
  },
  {
   "cell_type": "code",
   "execution_count": null,
   "outputs": [],
   "source": [
    "# Start with Learning Curve on Default Classifier\n",
    "train_sizes, train_scores, test_scores, fit_times = TrainingCurves.perform_learning_curve(svm.SVC(), X_train, y_train, \"accuracy\")"
   ],
   "metadata": {
    "collapsed": false,
    "pycharm": {
     "name": "#%%\n"
    }
   }
  },
  {
   "cell_type": "code",
   "execution_count": null,
   "outputs": [],
   "source": [
    "ylim=(0.45, 1.05)\n",
    "TrainingCurves.plot_learning_curve(train_scores, test_scores, train_sizes, \"Default Learning Curve\", ylim=ylim)"
   ],
   "metadata": {
    "collapsed": false,
    "pycharm": {
     "name": "#%%\n"
    }
   }
  },
  {
   "cell_type": "code",
   "execution_count": null,
   "outputs": [],
   "source": [
    "C = [i for i in range(1, 15)]\n",
    "\n",
    "gamma = [i for i in range(1, 10)]\n",
    "# gamma = [0.1, 0.01, 0.001] + gamma\n",
    "kernel = [\"linear\", \"rbf\", \"poly\"]\n",
    "degree = [3, 4]\n",
    "parameters = {\"kernel\": kernel, 'C': C, 'gamma': gamma}\n",
    "\n",
    "gs = common_SVM.perform_grid_search(parameters, X_train, y_train,scoring='balanced_accuracy', GS_FILE_NAME_PREFIX=GS_FILE_NAME_PREFIX)\n",
    "\n",
    "gs_results = gs"
   ],
   "metadata": {
    "collapsed": false,
    "pycharm": {
     "name": "#%%\n"
    }
   }
  },
  {
   "cell_type": "code",
   "execution_count": null,
   "outputs": [],
   "source": [
    "unused_params_values = {'gamma': 1, 'C': 1}\n",
    "common_grid_search_analysis.plot_grid_search_model_complexity(gs_results, PLOT_PREFIX)"
   ],
   "metadata": {
    "collapsed": false,
    "pycharm": {
     "name": "#%%\n"
    }
   }
  },
  {
   "cell_type": "code",
   "execution_count": null,
   "outputs": [],
   "source": [
    "common_grid_search_analysis.plot_grid_search_training_times(gs_results, PLOT_PREFIX)"
   ],
   "metadata": {
    "collapsed": false,
    "pycharm": {
     "name": "#%%\n"
    }
   }
  },
  {
   "cell_type": "code",
   "execution_count": null,
   "outputs": [],
   "source": [
    "common_grid_search_analysis.plot_grid_search_model_complexity_and_training(gs_results, PLOT_PREFIX)"
   ],
   "metadata": {
    "collapsed": false,
    "pycharm": {
     "name": "#%%\n"
    }
   }
  },
  {
   "cell_type": "code",
   "execution_count": null,
   "outputs": [],
   "source": [
    "cv = ShuffleSplit(n_splits=10, test_size=0.2, random_state=0)\n",
    "gamma = [i for i in range(1, 20, 2)]\n",
    "C = [i for i in range(1, 20, 2)]\n",
    "estimator = svm.SVC(kernel='rbf')\n",
    "\n",
    "train_scores_mean_gamma, train_scores_std_gamma, test_scores_mean_gamma, test_scores_std_gamma = \\\n",
    "    TrainingCurves.perform_validation_curve(estimator, X_train, y_train, \"gamma\", gamma, 'balanced_accuracy', cv=cv)\n",
    "\n",
    "\n"
   ],
   "metadata": {
    "collapsed": false,
    "pycharm": {
     "name": "#%%\n"
    }
   }
  }
 ],
 "metadata": {
  "kernelspec": {
   "display_name": "Python 3",
   "language": "python",
   "name": "python3"
  },
  "language_info": {
   "codemirror_mode": {
    "name": "ipython",
    "version": 2
   },
   "file_extension": ".py",
   "mimetype": "text/x-python",
   "name": "python",
   "nbconvert_exporter": "python",
   "pygments_lexer": "ipython2",
   "version": "2.7.6"
  }
 },
 "nbformat": 4,
 "nbformat_minor": 0
}